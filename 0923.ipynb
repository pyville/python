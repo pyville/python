{
 "cells": [
  {
   "cell_type": "markdown",
   "metadata": {},
   "source": [
    "# 기본 Python 대 NumPy"
   ]
  },
  {
   "cell_type": "markdown",
   "metadata": {},
   "source": [
    "## 행렬 나타내기"
   ]
  },
  {
   "cell_type": "markdown",
   "metadata": {},
   "source": [
    "행렬 또는 벡터 개념은 컴퓨터 내에서의 시간과 공간 구현에 있어서 필수적으로 사용된다.\n",
    "\n",
    "행렬은 파이썬에 기본적으로 내장된 자료형인 List 또는 NumPy의 array로 표현된다."
   ]
  },
  {
   "cell_type": "code",
   "execution_count": 1,
   "metadata": {},
   "outputs": [],
   "source": [
    "arr1 = [1, 3, 5, 7]\n",
    "arr2 = [[1, 3], [5, 7]]"
   ]
  },
  {
   "cell_type": "code",
   "execution_count": 2,
   "metadata": {},
   "outputs": [
    {
     "name": "stdout",
     "output_type": "stream",
     "text": [
      "[1, 3, 5, 7]\n"
     ]
    }
   ],
   "source": [
    "print(arr1)"
   ]
  },
  {
   "cell_type": "code",
   "execution_count": 3,
   "metadata": {},
   "outputs": [
    {
     "name": "stdout",
     "output_type": "stream",
     "text": [
      "[[1, 3], [5, 7]]\n"
     ]
    }
   ],
   "source": [
    "print(arr2)"
   ]
  },
  {
   "cell_type": "code",
   "execution_count": 4,
   "metadata": {},
   "outputs": [],
   "source": [
    "import numpy as np\n",
    "arr3 = np.array(arr1)\n",
    "arr4 = np.array(arr2)"
   ]
  },
  {
   "cell_type": "code",
   "execution_count": 5,
   "metadata": {},
   "outputs": [
    {
     "name": "stdout",
     "output_type": "stream",
     "text": [
      "[1 3 5 7]\n"
     ]
    }
   ],
   "source": [
    "print(arr3)"
   ]
  },
  {
   "cell_type": "code",
   "execution_count": 7,
   "metadata": {
    "scrolled": false
   },
   "outputs": [
    {
     "name": "stdout",
     "output_type": "stream",
     "text": [
      "[[1 3]\n",
      " [5 7]]\n"
     ]
    }
   ],
   "source": [
    "print(arr4)"
   ]
  },
  {
   "cell_type": "markdown",
   "metadata": {},
   "source": [
    "## 행렬 간 합(+) 연산"
   ]
  },
  {
   "cell_type": "markdown",
   "metadata": {},
   "source": [
    "행렬 간 합 연산은 리스트의 조건제시법을 이용하여 만들어야 한다.\n",
    "\n",
    "NumPy를 이용하면 단순히 합 연산으로 이를 실행할 수 있다.\n",
    "\n",
    "조건: 각 행렬은 행과 열의 개수가 같아야 더할 수 있다."
   ]
  },
  {
   "cell_type": "code",
   "execution_count": 11,
   "metadata": {},
   "outputs": [],
   "source": [
    "arr5 = [1, 3, 5, 7]\n",
    "arr6 = [2, 4, 6, 8]"
   ]
  },
  {
   "cell_type": "code",
   "execution_count": 12,
   "metadata": {},
   "outputs": [
    {
     "name": "stdout",
     "output_type": "stream",
     "text": [
      "[3, 7, 11, 15]\n"
     ]
    }
   ],
   "source": [
    "print([x+y for x, y in zip(arr5, arr6)])"
   ]
  },
  {
   "cell_type": "code",
   "execution_count": 13,
   "metadata": {},
   "outputs": [],
   "source": [
    "arr7 = np.array(arr5)\n",
    "arr8 = np.array(arr6)"
   ]
  },
  {
   "cell_type": "code",
   "execution_count": 14,
   "metadata": {},
   "outputs": [
    {
     "name": "stdout",
     "output_type": "stream",
     "text": [
      "[ 3  7 11 15]\n"
     ]
    }
   ],
   "source": [
    "print(arr7 + arr8)"
   ]
  },
  {
   "cell_type": "markdown",
   "metadata": {},
   "source": [
    "## 행렬과 (스칼라) 정수 간 곱(\\*) 연산"
   ]
  },
  {
   "cell_type": "markdown",
   "metadata": {},
   "source": [
    "행렬 간 곱 연산 역시 리스트의 조건제시법을 이용하여 수행할 수 있다.\n",
    "\n",
    "NumPy를 이용하면 단순히 정수에 행렬을 곱하면 된다."
   ]
  },
  {
   "cell_type": "code",
   "execution_count": 15,
   "metadata": {},
   "outputs": [],
   "source": [
    "arr9 = [30, 32, 34, 36, 38]"
   ]
  },
  {
   "cell_type": "code",
   "execution_count": 16,
   "metadata": {},
   "outputs": [
    {
     "name": "stdout",
     "output_type": "stream",
     "text": [
      "[90, 96, 102, 108, 114]\n"
     ]
    }
   ],
   "source": [
    "print([3*x for x in arr9])"
   ]
  },
  {
   "cell_type": "code",
   "execution_count": 17,
   "metadata": {},
   "outputs": [],
   "source": [
    "arr10 = np.array(arr9)"
   ]
  },
  {
   "cell_type": "code",
   "execution_count": 18,
   "metadata": {},
   "outputs": [
    {
     "name": "stdout",
     "output_type": "stream",
     "text": [
      "[ 90  96 102 108 114]\n"
     ]
    }
   ],
   "source": [
    "print(3*arr10)"
   ]
  },
  {
   "cell_type": "markdown",
   "metadata": {},
   "source": [
    "## 행렬의 각 원소끼리의 곱 연산"
   ]
  },
  {
   "cell_type": "markdown",
   "metadata": {},
   "source": [
    "행렬의 각 원소끼리 곱하는 것은 엄밀히 말해서 행렬곱은 아니다.\n",
    "\n",
    "하지만 필요하다면 NumPy에서 다음과 같이 실행할 수 있다."
   ]
  },
  {
   "cell_type": "code",
   "execution_count": 20,
   "metadata": {},
   "outputs": [],
   "source": [
    "arr11 = [[1, 3, 5], [2, 4, 6], [3, 6, 9]]\n",
    "arr12 = [[1, 0, 0], [0, 1, 0], [0, 0, 1]]"
   ]
  },
  {
   "cell_type": "code",
   "execution_count": 21,
   "metadata": {},
   "outputs": [
    {
     "name": "stdout",
     "output_type": "stream",
     "text": [
      "[[1 0 0]\n",
      " [0 4 0]\n",
      " [0 0 9]]\n"
     ]
    }
   ],
   "source": [
    "print(np.array(arr11)*np.array(arr12))"
   ]
  },
  {
   "cell_type": "markdown",
   "metadata": {},
   "source": [
    "## 수학의 행렬곱 연산"
   ]
  },
  {
   "cell_type": "markdown",
   "metadata": {},
   "source": [
    "수학의 행렬 곱 연산은 곱해지는 왼쪽 행렬의 행, 오른쪽 행렬의 열을 각각 곱한 후 더하는 방식으로 이루어진다.\n",
    "\n",
    "곱해지는 꼴이 달라서 혼란스러울 수 있는데 이때 오른쪽 행렬을 전치(transpose)시켜서 계산할 수 있다.\n",
    "\n",
    "다음과 같이 함수를 만들어서 행렬 곱을 구할 수도 있고, NumPy에 내장된 dot 함수를 이용하는 방법도 있다."
   ]
  },
  {
   "cell_type": "code",
   "execution_count": 22,
   "metadata": {},
   "outputs": [],
   "source": [
    "def transpose(arr):\n",
    "    temp_arr = []\n",
    "    for i in range(len(arr[0])):\n",
    "        temp_row = []\n",
    "        for j in range(len(arr)):\n",
    "            temp_row.append(arr[j][i])\n",
    "        temp_arr.append(temp_row)\n",
    "    return temp_arr\n",
    "\n",
    "def multiplication(arr1, arr2):\n",
    "    temp = 0\n",
    "    for i in range(len(arr1)):\n",
    "        temp += arr1[i]*arr2[i]\n",
    "    return temp\n",
    "\n",
    "def multiplication_of_arr(arr1, arr2):\n",
    "    answer = []\n",
    "    arr2_t = transpose(arr2)\n",
    "    for i in range(len(arr1)):\n",
    "        temp_row = []\n",
    "        for j in range(len(arr2_t)):\n",
    "            temp_row.append(multiplication(arr1[i], arr2_t[j]))\n",
    "        answer.append(temp_row)\n",
    "    return answer"
   ]
  },
  {
   "cell_type": "code",
   "execution_count": 23,
   "metadata": {},
   "outputs": [
    {
     "name": "stdout",
     "output_type": "stream",
     "text": [
      "[[1, 3, 5], [2, 4, 6], [3, 6, 9]]\n"
     ]
    }
   ],
   "source": [
    "print(multiplication_of_arr(arr11, arr12))"
   ]
  },
  {
   "cell_type": "code",
   "execution_count": 24,
   "metadata": {},
   "outputs": [
    {
     "name": "stdout",
     "output_type": "stream",
     "text": [
      "[[1 3 5]\n",
      " [2 4 6]\n",
      " [3 6 9]]\n"
     ]
    }
   ],
   "source": [
    "print(np.array(arr11).dot(arr12))"
   ]
  },
  {
   "cell_type": "markdown",
   "metadata": {},
   "source": [
    "## 전치행렬"
   ]
  },
  {
   "cell_type": "markdown",
   "metadata": {},
   "source": [
    "전치행렬은 기존 행렬의 행과 열을 뒤집은 꼴을 가진다.\n",
    "\n",
    "이는 행렬의 곱 연산 및 다른 행렬 연산에서 사용될 수 있다."
   ]
  },
  {
   "cell_type": "code",
   "execution_count": 25,
   "metadata": {},
   "outputs": [
    {
     "name": "stdout",
     "output_type": "stream",
     "text": [
      "[[10, 14, 18], [12, 16, 20]]\n"
     ]
    }
   ],
   "source": [
    "arr13 = [[10, 12], [14, 16], [18, 20]]\n",
    "print(transpose(arr13))"
   ]
  },
  {
   "cell_type": "code",
   "execution_count": 27,
   "metadata": {},
   "outputs": [
    {
     "name": "stdout",
     "output_type": "stream",
     "text": [
      "[[10 14 18]\n",
      " [12 16 20]]\n"
     ]
    }
   ],
   "source": [
    "print(np.array(arr13).T)"
   ]
  },
  {
   "cell_type": "markdown",
   "metadata": {},
   "source": [
    "## 영행렬, 단위행렬 등 특수한 행렬 만들기"
   ]
  },
  {
   "cell_type": "markdown",
   "metadata": {},
   "source": [
    "영행렬은 행렬의 모든 원소가 0인 행렬이고, 단위행렬은 행렬의 행과 열의 개수가 같고 대각선꼴이 1, 나머지 원소가 0이다.\n",
    "\n",
    "NumPy는 이 기능을 기본적으로 지원한다."
   ]
  },
  {
   "cell_type": "code",
   "execution_count": 40,
   "metadata": {},
   "outputs": [
    {
     "name": "stdout",
     "output_type": "stream",
     "text": [
      "[[0. 0. 0. 0. 0.]\n",
      " [0. 0. 0. 0. 0.]\n",
      " [0. 0. 0. 0. 0.]]\n"
     ]
    }
   ],
   "source": [
    "print(np.zeros((3,5)))"
   ]
  },
  {
   "cell_type": "code",
   "execution_count": 41,
   "metadata": {},
   "outputs": [
    {
     "name": "stdout",
     "output_type": "stream",
     "text": [
      "[[1. 1.]\n",
      " [1. 1.]\n",
      " [1. 1.]\n",
      " [1. 1.]]\n"
     ]
    }
   ],
   "source": [
    "print(np.ones((4, 2)))"
   ]
  },
  {
   "cell_type": "code",
   "execution_count": 55,
   "metadata": {},
   "outputs": [
    {
     "name": "stdout",
     "output_type": "stream",
     "text": [
      "[[1. 0. 0. 0. 0. 0. 0. 0. 0. 0.]\n",
      " [0. 1. 0. 0. 0. 0. 0. 0. 0. 0.]\n",
      " [0. 0. 1. 0. 0. 0. 0. 0. 0. 0.]\n",
      " [0. 0. 0. 1. 0. 0. 0. 0. 0. 0.]\n",
      " [0. 0. 0. 0. 1. 0. 0. 0. 0. 0.]\n",
      " [0. 0. 0. 0. 0. 1. 0. 0. 0. 0.]\n",
      " [0. 0. 0. 0. 0. 0. 1. 0. 0. 0.]\n",
      " [0. 0. 0. 0. 0. 0. 0. 1. 0. 0.]\n",
      " [0. 0. 0. 0. 0. 0. 0. 0. 1. 0.]\n",
      " [0. 0. 0. 0. 0. 0. 0. 0. 0. 1.]]\n"
     ]
    }
   ],
   "source": [
    "print(np.eye(10))"
   ]
  },
  {
   "cell_type": "code",
   "execution_count": 45,
   "metadata": {},
   "outputs": [
    {
     "name": "stdout",
     "output_type": "stream",
     "text": [
      "[ 0  1  2  3  4  5  6  7  8  9 10 11 12 13 14 15 16 17 18 19 20 21 22 23\n",
      " 24 25 26 27 28 29]\n"
     ]
    }
   ],
   "source": [
    "print(np.arange(30))"
   ]
  },
  {
   "cell_type": "markdown",
   "metadata": {},
   "source": [
    "## NumPy로 무작위 숫자 만들기"
   ]
  },
  {
   "cell_type": "markdown",
   "metadata": {},
   "source": [
    "### 정규분포 (rows, columns)"
   ]
  },
  {
   "cell_type": "code",
   "execution_count": 48,
   "metadata": {
    "scrolled": true
   },
   "outputs": [
    {
     "data": {
      "text/plain": [
       "array([[ 60.31400312, 123.21481206,  74.18427858, 119.13657838,\n",
       "         92.92578533],\n",
       "       [109.42750566, 125.1664202 , 103.93002561, 108.80094921,\n",
       "        107.82576544],\n",
       "       [102.65178632, 104.73313351, 117.38513352, 120.4698745 ,\n",
       "        117.82637804],\n",
       "       [ 80.58729481,  84.55777487, 108.98867894,  66.36638487,\n",
       "        121.70176255],\n",
       "       [ 96.71478568, 104.8900797 ,  72.64168626, 102.41924779,\n",
       "         89.53387758]])"
      ]
     },
     "execution_count": 48,
     "metadata": {},
     "output_type": "execute_result"
    }
   ],
   "source": [
    "data = 100 + np.random.randn(5,5) * 15\n",
    "data"
   ]
  },
  {
   "cell_type": "markdown",
   "metadata": {},
   "source": [
    "### 특정 범위 사이의 정수 (min, max, (rows, columns))"
   ]
  },
  {
   "cell_type": "code",
   "execution_count": 53,
   "metadata": {},
   "outputs": [
    {
     "data": {
      "text/plain": [
       "array([[13, 82, 74, 56, 60, 89, 60, 99, 54, 20, 71,  9, 42, 39, 70, 98,\n",
       "        14, 56, 85, 24],\n",
       "       [92, 92, 21,  5, 16, 81, 41, 24, 43, 86, 90, 81,  2, 49, 76, 12,\n",
       "         8, 62, 50, 34],\n",
       "       [96, 90, 27, 84, 24,  3, 59, 66, 93, 86, 62, 73, 94, 83, 39,  1,\n",
       "        21, 43, 62, 32],\n",
       "       [21, 22, 63, 30, 72, 39, 33, 40, 26, 53, 37, 60,  8, 87, 73, 47,\n",
       "        30, 14, 62, 98],\n",
       "       [69, 55, 22, 72, 38, 18, 96, 29, 21, 15, 68, 60, 28, 10, 33, 66,\n",
       "        70, 42, 31, 23],\n",
       "       [28, 24, 86, 59, 57, 32, 16,  5, 43, 59, 29, 72, 72, 44,  9, 20,\n",
       "         7, 89, 78, 90],\n",
       "       [ 8, 21, 71, 53, 44,  1, 89, 92, 37, 65,  5, 40,  8, 12, 86, 79,\n",
       "        92, 88, 10,  9],\n",
       "       [92,  5, 94, 18, 15, 29, 76, 17, 99, 46, 28, 18, 11, 21, 84, 36,\n",
       "        40,  4, 83, 24],\n",
       "       [22,  6,  5, 59, 14, 52, 44, 84,  2, 12, 74, 22, 76, 68, 75, 89,\n",
       "        72, 37,  9, 21],\n",
       "       [63, 34, 75, 77, 85, 93, 24, 39, 36, 62, 62, 36, 67, 36, 88, 71,\n",
       "         2,  5, 62, 39],\n",
       "       [74, 17, 27,  5, 71, 21, 11, 74, 55, 12,  4,  7, 34, 36, 35, 55,\n",
       "        42, 52, 83, 66],\n",
       "       [43, 37, 33, 14, 95, 95,  6, 52, 17, 46, 33, 13, 46, 72, 25, 30,\n",
       "        26, 34, 52, 71],\n",
       "       [34, 18, 57, 49, 73, 34, 51, 32, 99, 28, 48, 16, 22, 86,  0, 88,\n",
       "        60,  7, 37, 23],\n",
       "       [92, 40, 86, 88, 52, 98,  1, 37, 12, 28, 20, 34, 73, 16, 40, 51,\n",
       "        62, 11, 55, 24],\n",
       "       [69, 57, 15, 26, 32, 44,  9, 50, 70,  6, 70, 39, 39, 45, 44, 15,\n",
       "        71, 85, 91, 72],\n",
       "       [32, 63, 76, 95, 37, 46,  1, 29, 73, 26, 74, 97, 30, 10,  1, 97,\n",
       "         5, 19, 73, 51],\n",
       "       [75, 64, 21, 19, 87, 21, 17, 71, 46,  0, 62, 73, 71, 55,  2, 19,\n",
       "         9, 73, 12, 82],\n",
       "       [72, 99, 13,  3,  9, 71, 90, 55, 69,  8, 78, 94, 24, 75, 29, 83,\n",
       "        51, 10, 44, 25],\n",
       "       [79, 27, 52, 43, 89, 44, 28, 11, 55, 93, 69, 90, 49, 40, 55, 94,\n",
       "        89, 89,  6, 83],\n",
       "       [99, 23, 95,  7, 96, 22, 79, 34, 87,  2, 60, 61, 77, 52, 47, 48,\n",
       "        55, 23, 77, 43]])"
      ]
     },
     "execution_count": 53,
     "metadata": {},
     "output_type": "execute_result"
    }
   ],
   "source": [
    "data = np.random.randint(0, 100, (20, 20))\n",
    "data"
   ]
  },
  {
   "cell_type": "markdown",
   "metadata": {},
   "source": [
    "# NumPy로 문자열 데이터 다루기"
   ]
  },
  {
   "cell_type": "markdown",
   "metadata": {},
   "source": [
    "## NumPy로 문자열 데이터와 숫자 데이터 다루기"
   ]
  },
  {
   "cell_type": "markdown",
   "metadata": {},
   "source": [
    "NumPy에서 문자열을 다루는 방식은 pandas에서 사용하는 것과 대부분 비슷하다."
   ]
  },
  {
   "cell_type": "code",
   "execution_count": 56,
   "metadata": {
    "scrolled": true
   },
   "outputs": [
    {
     "data": {
      "text/plain": [
       "array([False,  True, False, False])"
      ]
     },
     "execution_count": 56,
     "metadata": {},
     "output_type": "execute_result"
    }
   ],
   "source": [
    "arr21 = np.array(['커피', '녹차', '콜라', '사이다'])\n",
    "arr21 == '녹차'"
   ]
  },
  {
   "cell_type": "code",
   "execution_count": 64,
   "metadata": {},
   "outputs": [
    {
     "data": {
      "text/plain": [
       "array([[ 25,  23,  -8, -48],\n",
       "       [ 44,  32,  35,  44],\n",
       "       [-28,   3,  26,  39],\n",
       "       [ -2,  -4, -45,  27]])"
      ]
     },
     "execution_count": 64,
     "metadata": {},
     "output_type": "execute_result"
    }
   ],
   "source": [
    "arr22 = np.random.randint(-50, 50, (4, 4))\n",
    "arr22"
   ]
  },
  {
   "cell_type": "code",
   "execution_count": 65,
   "metadata": {},
   "outputs": [
    {
     "data": {
      "text/plain": [
       "array([[44, 32, 35, 44]])"
      ]
     },
     "execution_count": 65,
     "metadata": {},
     "output_type": "execute_result"
    }
   ],
   "source": [
    "arr22[arr21 == '녹차']"
   ]
  },
  {
   "cell_type": "markdown",
   "metadata": {},
   "source": [
    "## 벡터의 평행 이동"
   ]
  },
  {
   "cell_type": "code",
   "execution_count": 59,
   "metadata": {},
   "outputs": [
    {
     "data": {
      "image/png": "[encoded data removed]",
      "text/plain": [
       "<Figure size 432x288 with 1 Axes>"
      ]
     },
     "metadata": {
      "needs_background": "light"
     },
     "output_type": "display_data"
    }
   ],
   "source": [
    "import matplotlib.pylab as plt\n",
    "%matplotlib inline\n",
    "\n",
    "plt.rc(\"font\", size=18)  # 그림의 폰트 크기를 18로 고정\n",
    "gray = {\"facecolor\": \"gray\"}\n",
    "black = {\"facecolor\": \"black\"}\n",
    "red = {\"facecolor\": \"red\"}\n",
    "green = {\"facecolor\": \"green\"}\n",
    "blue = {\"facecolor\": \"blue\"}\n",
    "\n",
    "a = np.array([1, 2])\n",
    "plt.plot(0, 0, 'kP', ms=20)\n",
    "plt.plot(a[0], a[1], 'ro', ms=20)\n",
    "plt.annotate('', xy=[-0.6, 1.6], xytext=(0.2, 0.7), arrowprops=gray)\n",
    "plt.annotate('', xy=a, xytext=(0, 0), arrowprops=black)\n",
    "plt.annotate('', xy=a + [-1, 1], xytext=(-1, 1), arrowprops=black)\n",
    "plt.annotate('', xy=a + [-1, 1], xytext=(-1, 1), arrowprops=black)\n",
    "plt.text(0.35, 1.15, \"$a$\")\n",
    "plt.text(1.15, 2.25, \"$(1,2)$\")\n",
    "plt.text(-0.7, 2.1, \"$a$\")\n",
    "plt.xticks(np.arange(-2, 4))\n",
    "plt.yticks(np.arange(-1, 4))\n",
    "plt.xlim(-2.4, 3.4)\n",
    "plt.ylim(-0.8, 3.4)\n",
    "plt.show()"
   ]
  },
  {
   "cell_type": "markdown",
   "metadata": {},
   "source": [
    "## 벡터의 스칼라 곱"
   ]
  },
  {
   "cell_type": "code",
   "execution_count": 60,
   "metadata": {},
   "outputs": [
    {
     "data": {
      "image/png": "[encoded data removed]",
      "text/plain": [
       "<Figure size 432x288 with 1 Axes>"
      ]
     },
     "metadata": {
      "needs_background": "light"
     },
     "output_type": "display_data"
    }
   ],
   "source": [
    "a = np.array([1, 2])\n",
    "b = 2 * a\n",
    "c = -a\n",
    "plt.annotate('', xy=b, xytext=(0, 0), arrowprops=red)\n",
    "plt.text(0.8, 3.1, \"$2a$\")\n",
    "plt.text(2.2, 3.8, \"$(2, 4)$\")\n",
    "plt.annotate('', xy=a, xytext=(0, 0), arrowprops=gray)\n",
    "plt.text(0.1, 1.3, \"$a$\")\n",
    "plt.text(1.1, 1.4, \"$(1, 2)$\")\n",
    "plt.plot(c[0], c[1], 'ro', ms=10)\n",
    "plt.annotate('', xy=c, xytext=(0, 0), arrowprops=blue)\n",
    "plt.text(-1.3, -0.8, \"$-a$\")\n",
    "plt.text(-3, -2.5, \"$(-1, -2)$\")\n",
    "plt.plot(0, 0, 'kP', ms=20)\n",
    "plt.xticks(np.arange(-5, 6))\n",
    "plt.yticks(np.arange(-5, 6))\n",
    "plt.xlim(-4.4, 5.4)\n",
    "plt.ylim(-3.2, 5.2)\n",
    "plt.show()"
   ]
  },
  {
   "cell_type": "markdown",
   "metadata": {},
   "source": [
    "## 벡터의 합"
   ]
  },
  {
   "cell_type": "code",
   "execution_count": 66,
   "metadata": {},
   "outputs": [
    {
     "data": {
      "image/png": "[encoded data removed]",
      "text/plain": [
       "<Figure size 432x288 with 1 Axes>"
      ]
     },
     "metadata": {
      "needs_background": "light"
     },
     "output_type": "display_data"
    }
   ],
   "source": [
    "a = np.array([1, 2])\n",
    "b = np.array([2, 1])\n",
    "c = a + b\n",
    "plt.annotate('', xy=a, xytext=(0, 0), arrowprops=gray)\n",
    "plt.annotate('', xy=b, xytext=(0, 0), arrowprops=gray)\n",
    "plt.annotate('', xy=c, xytext=(0, 0), arrowprops=black)\n",
    "plt.plot(0, 0, 'kP', ms=10)\n",
    "plt.plot(a[0], a[1], 'ro', ms=10)\n",
    "plt.plot(b[0], b[1], 'ro', ms=10)\n",
    "plt.plot(c[0], c[1], 'ro', ms=10)\n",
    "plt.plot([a[0], c[0]], [a[1], c[1]], 'k--')\n",
    "plt.plot([b[0], c[0]], [b[1], c[1]], 'k--')\n",
    "plt.text(0.35, 1.15, \"$a$\")\n",
    "plt.text(1.15, 0.25, \"$b$\")\n",
    "plt.text(1.25, 1.45, \"$c$\")\n",
    "plt.xticks(np.arange(-2, 5))\n",
    "plt.yticks(np.arange(-1, 4))\n",
    "plt.xlim(-1.4, 4.4)\n",
    "plt.ylim(-0.6, 3.8)\n",
    "plt.show()"
   ]
  },
  {
   "cell_type": "markdown",
   "metadata": {},
   "source": [
    "## 벡터의 선형 조합"
   ]
  },
  {
   "cell_type": "code",
   "execution_count": 67,
   "metadata": {},
   "outputs": [
    {
     "data": {
      "image/png": "[encoded data removed]",
      "text/plain": [
       "<Figure size 432x288 with 1 Axes>"
      ]
     },
     "metadata": {
      "needs_background": "light"
     },
     "output_type": "display_data"
    }
   ],
   "source": [
    "x1 = np.array([1, 2])\n",
    "x2 = np.array([2, 1])\n",
    "x3 = 0.5 * x1 + x2\n",
    "plt.annotate('', xy=0.5*x1, xytext=(0, 0), arrowprops=gray)\n",
    "plt.annotate('', xy=x2, xytext=(0, 0), arrowprops=gray)\n",
    "plt.annotate('', xy=x3, xytext=(0, 0), arrowprops=black)\n",
    "plt.plot(0, 0, 'kP', ms=10)\n",
    "plt.plot(x1[0], x1[1], 'ro', ms=10)\n",
    "plt.plot(x2[0], x2[1], 'ro', ms=10)\n",
    "plt.plot(x3[0], x3[1], 'ro', ms=10)\n",
    "plt.plot([x1[0], 0], [x1[1], 0], 'k--')\n",
    "plt.text(0.6, 2.0, \"$x_1$\")\n",
    "plt.text(-0.5, 0.5, \"$0.5x_1$\")\n",
    "plt.text(1.15, 0.25, \"$x_2$\")\n",
    "plt.text(2.5, 1.6, \"$0.5x_1 + x_2$\")\n",
    "plt.xticks(np.arange(-2, 5))\n",
    "plt.yticks(np.arange(-1, 4))\n",
    "plt.xlim(-1.4, 4.4)\n",
    "plt.ylim(-0.6, 3.8)\n",
    "plt.show()"
   ]
  },
  {
   "cell_type": "markdown",
   "metadata": {},
   "source": [
    "## 벡터의 차"
   ]
  },
  {
   "cell_type": "code",
   "execution_count": 68,
   "metadata": {},
   "outputs": [
    {
     "data": {
      "image/png": "[encoded data removed]",
      "text/plain": [
       "<Figure size 432x288 with 1 Axes>"
      ]
     },
     "metadata": {
      "needs_background": "light"
     },
     "output_type": "display_data"
    }
   ],
   "source": [
    "a = np.array([1, 2])\n",
    "b = np.array([2, 1])\n",
    "c = a - b\n",
    "plt.annotate('', xy=a, xytext=(0, 0), arrowprops=gray)\n",
    "plt.annotate('', xy=b, xytext=(0, 0), arrowprops=gray)\n",
    "plt.annotate('', xy=a, xytext=b, arrowprops=black)\n",
    "plt.plot(0, 0, 'kP', ms=10)\n",
    "plt.plot(a[0], a[1], 'ro', ms=10)\n",
    "plt.plot(b[0], b[1], 'ro', ms=10)\n",
    "plt.text(0.35, 1.15, \"$a$\")\n",
    "plt.text(1.15, 0.25, \"$b$\")\n",
    "plt.text(1.55, 1.65, \"$a-b$\")\n",
    "plt.xticks(np.arange(-2, 5))\n",
    "plt.yticks(np.arange(-1, 4))\n",
    "plt.xlim(-0.8, 2.8)\n",
    "plt.ylim(-0.8, 2.8)\n",
    "plt.show()"
   ]
  },
  {
   "cell_type": "markdown",
   "metadata": {},
   "source": [
    "## Word2Vec"
   ]
  },
  {
   "cell_type": "markdown",
   "metadata": {},
   "source": [
    "나중에 인공신경망 부분에서 공부하게 될 word2vec 방법을 이용하면 단어(word)를 공간에서 점 또는 벡터(vector)로 표현할 수 있다. word2vec으로 만들어진 벡터는 단어의 의미에 따라 다음처럼 평행사변형 관계를 가질 수 있다.\n",
    "\n",
    "`일본=도쿄+(한국−서울)`\n",
    "\n",
    "`한국 - 서울`은 `서울`에서 `한국`으로 향하는 벡터다. 즉 의미론적으로 수도 이름을 나라 이름으로 바꾸는 행위(action)에 비유할 수 있다. 이러한 행위를 `도쿄`에 대해서 적용한 결과가 `도쿄 + (한국 - 서울)`이다. word2vec 학습 결과에서 이렇게 계산한 위치에 가장 가까이 있는 단어를 찾으면 `도쿄`가 나온다."
   ]
  },
  {
   "cell_type": "code",
   "execution_count": 71,
   "metadata": {},
   "outputs": [
    {
     "data": {
      "image/png": "[encoded data removed]",
      "text/plain": [
       "<Figure size 432x288 with 1 Axes>"
      ]
     },
     "metadata": {
      "needs_background": "light"
     },
     "output_type": "display_data"
    }
   ],
   "source": [
    "import matplotlib.font_manager as fm\n",
    "path_gothic = '/Users/jeongjoo/Library/Fonts/KUCentennial.ttf'\n",
    "fontprop1 = fm.FontProperties(fname=path_gothic, size=15)\n",
    "\n",
    "a = np.array([2, 2])\n",
    "b = np.array([3, 4])\n",
    "c = np.array([4, 1])\n",
    "d = a + (c - a)\n",
    "e = b + (c - a)\n",
    "plt.annotate('', xy=b, xytext=a, arrowprops=black)\n",
    "plt.annotate('', xy=e, xytext=d, arrowprops=black)\n",
    "plt.annotate('', xy=c, xytext=[0, 0], arrowprops=gray)\n",
    "plt.plot(0, 0, 'kP', ms=10)\n",
    "plt.plot(a[0], a[1], 'ro', ms=10)\n",
    "plt.plot(b[0], b[1], 'ro', ms=10)\n",
    "plt.plot(c[0], c[1], 'ro', ms=10)\n",
    "plt.text(1.6, 1.5, \"서울\", fontproperties=fontprop1)\n",
    "plt.text(2.5, 4.3, \"한국\", fontproperties=fontprop1)\n",
    "plt.text(3.5, 0.5, \"도쿄\", fontproperties=fontprop1)\n",
    "plt.text(4.9, 3.2, \"일본\", fontproperties=fontprop1)\n",
    "plt.xticks(np.arange(-2, 7))\n",
    "plt.yticks(np.arange(-1, 6))\n",
    "plt.xlim(-1.4, 6.4)\n",
    "plt.ylim(-0.6, 5.8)\n",
    "plt.show()"
   ]
  },
  {
   "cell_type": "code",
   "execution_count": null,
   "metadata": {},
   "outputs": [],
   "source": []
  },
  {
   "cell_type": "code",
   "execution_count": null,
   "metadata": {},
   "outputs": [],
   "source": []
  },
  {
   "cell_type": "code",
   "execution_count": null,
   "metadata": {},
   "outputs": [],
   "source": []
  },
  {
   "cell_type": "code",
   "execution_count": null,
   "metadata": {},
   "outputs": [],
   "source": []
  },
  {
   "cell_type": "code",
   "execution_count": null,
   "metadata": {},
   "outputs": [],
   "source": []
  }
 ],
 "metadata": {
  "kernelspec": {
   "display_name": "Python 3",
   "language": "python",
   "name": "python3"
  },
  "language_info": {
   "codemirror_mode": {
    "name": "ipython",
    "version": 3
   },
   "file_extension": ".py",
   "mimetype": "text/x-python",
   "name": "python",
   "nbconvert_exporter": "python",
   "pygments_lexer": "ipython3",
   "version": "3.7.1"
  }
 },
 "nbformat": 4,
 "nbformat_minor": 2
}
