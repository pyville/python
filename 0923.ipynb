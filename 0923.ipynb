{
 "cells": [
  {
   "cell_type": "markdown",
   "metadata": {},
   "source": [
    "# 기본 Python 대 NumPy"
   ]
  },
  {
   "cell_type": "markdown",
   "metadata": {},
   "source": [
    "## 행렬 나타내기"
   ]
  },
  {
   "cell_type": "markdown",
   "metadata": {},
   "source": [
    "행렬 또는 벡터 개념은 컴퓨터 내에서의 시간과 공간 구현에 있어서 필수적으로 사용된다.\n",
    "\n",
    "행렬은 파이썬에 기본적으로 내장된 자료형인 List 또는 NumPy의 array로 표현된다."
   ]
  },
  {
   "cell_type": "code",
   "execution_count": 1,
   "metadata": {},
   "outputs": [],
   "source": [
    "arr1 = [1, 3, 5, 7]\n",
    "arr2 = [[1, 3], [5, 7]]"
   ]
  },
  {
   "cell_type": "code",
   "execution_count": 2,
   "metadata": {},
   "outputs": [
    {
     "name": "stdout",
     "output_type": "stream",
     "text": [
      "[1, 3, 5, 7]\n"
     ]
    }
   ],
   "source": [
    "print(arr1)"
   ]
  },
  {
   "cell_type": "code",
   "execution_count": 3,
   "metadata": {},
   "outputs": [
    {
     "name": "stdout",
     "output_type": "stream",
     "text": [
      "[[1, 3], [5, 7]]\n"
     ]
    }
   ],
   "source": [
    "print(arr2)"
   ]
  },
  {
   "cell_type": "code",
   "execution_count": 4,
   "metadata": {},
   "outputs": [],
   "source": [
    "import numpy as np\n",
    "arr3 = np.array(arr1)\n",
    "arr4 = np.array(arr2)"
   ]
  },
  {
   "cell_type": "code",
   "execution_count": 5,
   "metadata": {},
   "outputs": [
    {
     "name": "stdout",
     "output_type": "stream",
     "text": [
      "[1 3 5 7]\n"
     ]
    }
   ],
   "source": [
    "print(arr3)"
   ]
  },
  {
   "cell_type": "code",
   "execution_count": 7,
   "metadata": {
    "scrolled": false
   },
   "outputs": [
    {
     "name": "stdout",
     "output_type": "stream",
     "text": [
      "[[1 3]\n",
      " [5 7]]\n"
     ]
    }
   ],
   "source": [
    "print(arr4)"
   ]
  },
  {
   "cell_type": "markdown",
   "metadata": {},
   "source": [
    "## 행렬 간 합(+) 연산"
   ]
  },
  {
   "cell_type": "markdown",
   "metadata": {},
   "source": [
    "행렬 간 합 연산은 리스트의 조건제시법을 이용하여 만들어야 한다.\n",
    "\n",
    "NumPy를 이용하면 단순히 합 연산으로 이를 실행할 수 있다.\n",
    "\n",
    "조건: 각 행렬은 행과 열의 개수가 같아야 더할 수 있다."
   ]
  },
  {
   "cell_type": "code",
   "execution_count": 11,
   "metadata": {},
   "outputs": [],
   "source": [
    "arr5 = [1, 3, 5, 7]\n",
    "arr6 = [2, 4, 6, 8]"
   ]
  },
  {
   "cell_type": "code",
   "execution_count": 12,
   "metadata": {},
   "outputs": [
    {
     "name": "stdout",
     "output_type": "stream",
     "text": [
      "[3, 7, 11, 15]\n"
     ]
    }
   ],
   "source": [
    "print([x+y for x, y in zip(arr5, arr6)])"
   ]
  },
  {
   "cell_type": "code",
   "execution_count": 13,
   "metadata": {},
   "outputs": [],
   "source": [
    "arr7 = np.array(arr5)\n",
    "arr8 = np.array(arr6)"
   ]
  },
  {
   "cell_type": "code",
   "execution_count": 14,
   "metadata": {},
   "outputs": [
    {
     "name": "stdout",
     "output_type": "stream",
     "text": [
      "[ 3  7 11 15]\n"
     ]
    }
   ],
   "source": [
    "print(arr7 + arr8)"
   ]
  },
  {
   "cell_type": "markdown",
   "metadata": {},
   "source": [
    "## 행렬과 (스칼라) 정수 간 곱(\\*) 연산"
   ]
  },
  {
   "cell_type": "markdown",
   "metadata": {},
   "source": [
    "행렬 간 곱 연산 역시 리스트의 조건제시법을 이용하여 수행할 수 있다.\n",
    "\n",
    "NumPy를 이용하면 단순히 정수에 행렬을 곱하면 된다."
   ]
  },
  {
   "cell_type": "code",
   "execution_count": 15,
   "metadata": {},
   "outputs": [],
   "source": [
    "arr9 = [30, 32, 34, 36, 38]"
   ]
  },
  {
   "cell_type": "code",
   "execution_count": 16,
   "metadata": {},
   "outputs": [
    {
     "name": "stdout",
     "output_type": "stream",
     "text": [
      "[90, 96, 102, 108, 114]\n"
     ]
    }
   ],
   "source": [
    "print([3*x for x in arr9])"
   ]
  },
  {
   "cell_type": "code",
   "execution_count": 17,
   "metadata": {},
   "outputs": [],
   "source": [
    "arr10 = np.array(arr9)"
   ]
  },
  {
   "cell_type": "code",
   "execution_count": 18,
   "metadata": {},
   "outputs": [
    {
     "name": "stdout",
     "output_type": "stream",
     "text": [
      "[ 90  96 102 108 114]\n"
     ]
    }
   ],
   "source": [
    "print(3*arr10)"
   ]
  },
  {
   "cell_type": "markdown",
   "metadata": {},
   "source": [
    "## 행렬의 각 원소끼리의 곱 연산"
   ]
  },
  {
   "cell_type": "markdown",
   "metadata": {},
   "source": [
    "행렬의 각 원소끼리 곱하는 것은 엄밀히 말해서 행렬곱은 아니다.\n",
    "\n",
    "하지만 필요하다면 NumPy에서 다음과 같이 실행할 수 있다."
   ]
  },
  {
   "cell_type": "code",
   "execution_count": 20,
   "metadata": {},
   "outputs": [],
   "source": [
    "arr11 = [[1, 3, 5], [2, 4, 6], [3, 6, 9]]\n",
    "arr12 = [[1, 0, 0], [0, 1, 0], [0, 0, 1]]"
   ]
  },
  {
   "cell_type": "code",
   "execution_count": 21,
   "metadata": {},
   "outputs": [
    {
     "name": "stdout",
     "output_type": "stream",
     "text": [
      "[[1 0 0]\n",
      " [0 4 0]\n",
      " [0 0 9]]\n"
     ]
    }
   ],
   "source": [
    "print(np.array(arr11)*np.array(arr12))"
   ]
  },
  {
   "cell_type": "markdown",
   "metadata": {},
   "source": [
    "## 수학의 행렬곱 연산"
   ]
  },
  {
   "cell_type": "markdown",
   "metadata": {},
   "source": [
    "수학의 행렬 곱 연산은 곱해지는 왼쪽 행렬의 행, 오른쪽 행렬의 열을 각각 곱한 후 더하는 방식으로 이루어진다.\n",
    "\n",
    "곱해지는 꼴이 달라서 혼란스러울 수 있는데 이때 오른쪽 행렬을 전치(transpose)시켜서 계산할 수 있다.\n",
    "\n",
    "다음과 같이 함수를 만들어서 행렬 곱을 구할 수도 있고, NumPy에 내장된 dot 함수를 이용하는 방법도 있다."
   ]
  },
  {
   "cell_type": "code",
   "execution_count": 22,
   "metadata": {},
   "outputs": [],
   "source": [
    "def transpose(arr):\n",
    "    temp_arr = []\n",
    "    for i in range(len(arr[0])):\n",
    "        temp_row = []\n",
    "        for j in range(len(arr)):\n",
    "            temp_row.append(arr[j][i])\n",
    "        temp_arr.append(temp_row)\n",
    "    return temp_arr\n",
    "\n",
    "def multiplication(arr1, arr2):\n",
    "    temp = 0\n",
    "    for i in range(len(arr1)):\n",
    "        temp += arr1[i]*arr2[i]\n",
    "    return temp\n",
    "\n",
    "def multiplication_of_arr(arr1, arr2):\n",
    "    answer = []\n",
    "    arr2_t = transpose(arr2)\n",
    "    for i in range(len(arr1)):\n",
    "        temp_row = []\n",
    "        for j in range(len(arr2_t)):\n",
    "            temp_row.append(multiplication(arr1[i], arr2_t[j]))\n",
    "        answer.append(temp_row)\n",
    "    return answer"
   ]
  },
  {
   "cell_type": "code",
   "execution_count": 23,
   "metadata": {},
   "outputs": [
    {
     "name": "stdout",
     "output_type": "stream",
     "text": [
      "[[1, 3, 5], [2, 4, 6], [3, 6, 9]]\n"
     ]
    }
   ],
   "source": [
    "print(multiplication_of_arr(arr11, arr12))"
   ]
  },
  {
   "cell_type": "code",
   "execution_count": 24,
   "metadata": {},
   "outputs": [
    {
     "name": "stdout",
     "output_type": "stream",
     "text": [
      "[[1 3 5]\n",
      " [2 4 6]\n",
      " [3 6 9]]\n"
     ]
    }
   ],
   "source": [
    "print(np.array(arr11).dot(arr12))"
   ]
  },
  {
   "cell_type": "markdown",
   "metadata": {},
   "source": [
    "## 전치행렬"
   ]
  },
  {
   "cell_type": "markdown",
   "metadata": {},
   "source": [
    "전치행렬은 기존 행렬의 행과 열을 뒤집은 꼴을 가진다.\n",
    "\n",
    "이는 행렬의 곱 연산 및 다른 행렬 연산에서 사용될 수 있다."
   ]
  },
  {
   "cell_type": "code",
   "execution_count": 25,
   "metadata": {},
   "outputs": [
    {
     "name": "stdout",
     "output_type": "stream",
     "text": [
      "[[10, 14, 18], [12, 16, 20]]\n"
     ]
    }
   ],
   "source": [
    "arr13 = [[10, 12], [14, 16], [18, 20]]\n",
    "print(transpose(arr13))"
   ]
  },
  {
   "cell_type": "code",
   "execution_count": 27,
   "metadata": {},
   "outputs": [
    {
     "name": "stdout",
     "output_type": "stream",
     "text": [
      "[[10 14 18]\n",
      " [12 16 20]]\n"
     ]
    }
   ],
   "source": [
    "print(np.array(arr13).T)"
   ]
  },
  {
   "cell_type": "markdown",
   "metadata": {},
   "source": [
    "## 영행렬, 단위행렬 등 특수한 행렬 만들기"
   ]
  },
  {
   "cell_type": "markdown",
   "metadata": {},
   "source": [
    "영행렬은 행렬의 모든 원소가 0인 행렬이고, 단위행렬은 행렬의 행과 열의 개수가 같고 대각선꼴이 1, 나머지 원소가 0이다.\n",
    "\n",
    "NumPy는 이 기능을 기본적으로 지원한다."
   ]
  },
  {
   "cell_type": "code",
   "execution_count": 40,
   "metadata": {},
   "outputs": [
    {
     "name": "stdout",
     "output_type": "stream",
     "text": [
      "[[0. 0. 0. 0. 0.]\n",
      " [0. 0. 0. 0. 0.]\n",
      " [0. 0. 0. 0. 0.]]\n"
     ]
    }
   ],
   "source": [
    "print(np.zeros((3,5)))"
   ]
  },
  {
   "cell_type": "code",
   "execution_count": 41,
   "metadata": {},
   "outputs": [
    {
     "name": "stdout",
     "output_type": "stream",
     "text": [
      "[[1. 1.]\n",
      " [1. 1.]\n",
      " [1. 1.]\n",
      " [1. 1.]]\n"
     ]
    }
   ],
   "source": [
    "print(np.ones((4, 2)))"
   ]
  },
  {
   "cell_type": "code",
   "execution_count": 54,
   "metadata": {},
   "outputs": [
    {
     "name": "stdout",
     "output_type": "stream",
     "text": [
      "[[1. 0. 0. 0. 0. 0. 0. 0. 0. 0.]\n",
      " [0. 1. 0. 0. 0. 0. 0. 0. 0. 0.]\n",
      " [0. 0. 1. 0. 0. 0. 0. 0. 0. 0.]\n",
      " [0. 0. 0. 1. 0. 0. 0. 0. 0. 0.]\n",
      " [0. 0. 0. 0. 1. 0. 0. 0. 0. 0.]\n",
      " [0. 0. 0. 0. 0. 1. 0. 0. 0. 0.]\n",
      " [0. 0. 0. 0. 0. 0. 1. 0. 0. 0.]\n",
      " [0. 0. 0. 0. 0. 0. 0. 1. 0. 0.]\n",
      " [0. 0. 0. 0. 0. 0. 0. 0. 1. 0.]\n",
      " [0. 0. 0. 0. 0. 0. 0. 0. 0. 1.]]\n"
     ]
    }
   ],
   "source": [
    "print(np.eye((10)))"
   ]
  },
  {
   "cell_type": "code",
   "execution_count": 45,
   "metadata": {},
   "outputs": [
    {
     "name": "stdout",
     "output_type": "stream",
     "text": [
      "[ 0  1  2  3  4  5  6  7  8  9 10 11 12 13 14 15 16 17 18 19 20 21 22 23\n",
      " 24 25 26 27 28 29]\n"
     ]
    }
   ],
   "source": [
    "print(np.arange(30))"
   ]
  },
  {
   "cell_type": "markdown",
   "metadata": {},
   "source": [
    "## NumPy로 무작위 숫자 만들기"
   ]
  },
  {
   "cell_type": "markdown",
   "metadata": {},
   "source": [
    "### 정규분포 (rows, columns)"
   ]
  },
  {
   "cell_type": "code",
   "execution_count": 48,
   "metadata": {
    "scrolled": true
   },
   "outputs": [
    {
     "data": {
      "text/plain": [
       "array([[ 60.31400312, 123.21481206,  74.18427858, 119.13657838,\n",
       "         92.92578533],\n",
       "       [109.42750566, 125.1664202 , 103.93002561, 108.80094921,\n",
       "        107.82576544],\n",
       "       [102.65178632, 104.73313351, 117.38513352, 120.4698745 ,\n",
       "        117.82637804],\n",
       "       [ 80.58729481,  84.55777487, 108.98867894,  66.36638487,\n",
       "        121.70176255],\n",
       "       [ 96.71478568, 104.8900797 ,  72.64168626, 102.41924779,\n",
       "         89.53387758]])"
      ]
     },
     "execution_count": 48,
     "metadata": {},
     "output_type": "execute_result"
    }
   ],
   "source": [
    "data = 100 + np.random.randn(5,5) * 15\n",
    "data"
   ]
  },
  {
   "cell_type": "markdown",
   "metadata": {},
   "source": [
    "### 특정 범위 사이의 정수 (min, max, (rows, columns))"
   ]
  },
  {
   "cell_type": "code",
   "execution_count": 53,
   "metadata": {},
   "outputs": [
    {
     "data": {
      "text/plain": [
       "array([[13, 82, 74, 56, 60, 89, 60, 99, 54, 20, 71,  9, 42, 39, 70, 98,\n",
       "        14, 56, 85, 24],\n",
       "       [92, 92, 21,  5, 16, 81, 41, 24, 43, 86, 90, 81,  2, 49, 76, 12,\n",
       "         8, 62, 50, 34],\n",
       "       [96, 90, 27, 84, 24,  3, 59, 66, 93, 86, 62, 73, 94, 83, 39,  1,\n",
       "        21, 43, 62, 32],\n",
       "       [21, 22, 63, 30, 72, 39, 33, 40, 26, 53, 37, 60,  8, 87, 73, 47,\n",
       "        30, 14, 62, 98],\n",
       "       [69, 55, 22, 72, 38, 18, 96, 29, 21, 15, 68, 60, 28, 10, 33, 66,\n",
       "        70, 42, 31, 23],\n",
       "       [28, 24, 86, 59, 57, 32, 16,  5, 43, 59, 29, 72, 72, 44,  9, 20,\n",
       "         7, 89, 78, 90],\n",
       "       [ 8, 21, 71, 53, 44,  1, 89, 92, 37, 65,  5, 40,  8, 12, 86, 79,\n",
       "        92, 88, 10,  9],\n",
       "       [92,  5, 94, 18, 15, 29, 76, 17, 99, 46, 28, 18, 11, 21, 84, 36,\n",
       "        40,  4, 83, 24],\n",
       "       [22,  6,  5, 59, 14, 52, 44, 84,  2, 12, 74, 22, 76, 68, 75, 89,\n",
       "        72, 37,  9, 21],\n",
       "       [63, 34, 75, 77, 85, 93, 24, 39, 36, 62, 62, 36, 67, 36, 88, 71,\n",
       "         2,  5, 62, 39],\n",
       "       [74, 17, 27,  5, 71, 21, 11, 74, 55, 12,  4,  7, 34, 36, 35, 55,\n",
       "        42, 52, 83, 66],\n",
       "       [43, 37, 33, 14, 95, 95,  6, 52, 17, 46, 33, 13, 46, 72, 25, 30,\n",
       "        26, 34, 52, 71],\n",
       "       [34, 18, 57, 49, 73, 34, 51, 32, 99, 28, 48, 16, 22, 86,  0, 88,\n",
       "        60,  7, 37, 23],\n",
       "       [92, 40, 86, 88, 52, 98,  1, 37, 12, 28, 20, 34, 73, 16, 40, 51,\n",
       "        62, 11, 55, 24],\n",
       "       [69, 57, 15, 26, 32, 44,  9, 50, 70,  6, 70, 39, 39, 45, 44, 15,\n",
       "        71, 85, 91, 72],\n",
       "       [32, 63, 76, 95, 37, 46,  1, 29, 73, 26, 74, 97, 30, 10,  1, 97,\n",
       "         5, 19, 73, 51],\n",
       "       [75, 64, 21, 19, 87, 21, 17, 71, 46,  0, 62, 73, 71, 55,  2, 19,\n",
       "         9, 73, 12, 82],\n",
       "       [72, 99, 13,  3,  9, 71, 90, 55, 69,  8, 78, 94, 24, 75, 29, 83,\n",
       "        51, 10, 44, 25],\n",
       "       [79, 27, 52, 43, 89, 44, 28, 11, 55, 93, 69, 90, 49, 40, 55, 94,\n",
       "        89, 89,  6, 83],\n",
       "       [99, 23, 95,  7, 96, 22, 79, 34, 87,  2, 60, 61, 77, 52, 47, 48,\n",
       "        55, 23, 77, 43]])"
      ]
     },
     "execution_count": 53,
     "metadata": {},
     "output_type": "execute_result"
    }
   ],
   "source": [
    "data = np.random.randint(0, 100, (20, 20))\n",
    "data"
   ]
  },
  {
   "cell_type": "code",
   "execution_count": null,
   "metadata": {},
   "outputs": [],
   "source": []
  },
  {
   "cell_type": "code",
   "execution_count": null,
   "metadata": {},
   "outputs": [],
   "source": []
  },
  {
   "cell_type": "code",
   "execution_count": null,
   "metadata": {},
   "outputs": [],
   "source": []
  }
 ],
 "metadata": {
  "kernelspec": {
   "display_name": "Python 3",
   "language": "python",
   "name": "python3"
  },
  "language_info": {
   "codemirror_mode": {
    "name": "ipython",
    "version": 3
   },
   "file_extension": ".py",
   "mimetype": "text/x-python",
   "name": "python",
   "nbconvert_exporter": "python",
   "pygments_lexer": "ipython3",
   "version": "3.7.1"
  }
 },
 "nbformat": 4,
 "nbformat_minor": 2
}
